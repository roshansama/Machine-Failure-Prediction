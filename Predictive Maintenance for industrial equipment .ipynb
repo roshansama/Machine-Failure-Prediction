{
 "cells": [
  {
   "cell_type": "raw",
   "id": "bb27ce49-5104-4b34-bae1-5ff66bce2ef6",
   "metadata": {},
   "source": [
    "Problem Statement: In manufacturing industries, unexpected machine failures lead to significant downtime, increased maintenance costs, and loss of productivity. While traditional maintenance practices rely on scheduled or reactive approaches, they often fail to optimize resource utilization or prevent failures effectively.\n",
    "\n",
    "The goal of this project is to develop a predictive maintenance system using machine learning to anticipate equipment failures based on historical sensor data. By predicting whether a machine is likely to fail, the system enables proactive maintenance, reduces downtime, and improves operational efficiency."
   ]
  },
  {
   "cell_type": "markdown",
   "id": "95af3f30-1caa-433d-b994-697d8a62155b",
   "metadata": {},
   "source": [
    "## Import Necessary Libraries"
   ]
  },
  {
   "cell_type": "code",
   "execution_count": 1,
   "id": "a8ec4099-6970-4434-be7a-d9bee171377c",
   "metadata": {},
   "outputs": [],
   "source": [
    "import pandas as pd\n",
    "from sklearn.preprocessing import OneHotEncoder\n",
    "from sklearn.preprocessing import StandardScaler\n",
    "from sklearn.model_selection import train_test_split\n",
    "from sklearn.ensemble import RandomForestClassifier\n",
    "from sklearn.feature_selection import RFE\n",
    "from sklearn.metrics import accuracy_score, classification_report, roc_auc_score\n",
    "import matplotlib.pyplot as plt\n",
    "import numpy as np"
   ]
  },
  {
   "cell_type": "code",
   "execution_count": 2,
   "id": "107dc78e-a31b-43d0-a49b-9ef9d800c274",
   "metadata": {},
   "outputs": [
    {
     "data": {
      "text/html": [
       "<div>\n",
       "<style scoped>\n",
       "    .dataframe tbody tr th:only-of-type {\n",
       "        vertical-align: middle;\n",
       "    }\n",
       "\n",
       "    .dataframe tbody tr th {\n",
       "        vertical-align: top;\n",
       "    }\n",
       "\n",
       "    .dataframe thead th {\n",
       "        text-align: right;\n",
       "    }\n",
       "</style>\n",
       "<table border=\"1\" class=\"dataframe\">\n",
       "  <thead>\n",
       "    <tr style=\"text-align: right;\">\n",
       "      <th></th>\n",
       "      <th>UDI</th>\n",
       "      <th>Product ID</th>\n",
       "      <th>Type</th>\n",
       "      <th>Air temperature [K]</th>\n",
       "      <th>Process temperature [K]</th>\n",
       "      <th>Rotational speed [rpm]</th>\n",
       "      <th>Torque [Nm]</th>\n",
       "      <th>Tool wear [min]</th>\n",
       "      <th>Machine failure</th>\n",
       "      <th>TWF</th>\n",
       "      <th>HDF</th>\n",
       "      <th>PWF</th>\n",
       "      <th>OSF</th>\n",
       "      <th>RNF</th>\n",
       "    </tr>\n",
       "  </thead>\n",
       "  <tbody>\n",
       "    <tr>\n",
       "      <th>0</th>\n",
       "      <td>1</td>\n",
       "      <td>M14860</td>\n",
       "      <td>M</td>\n",
       "      <td>298.1</td>\n",
       "      <td>308.6</td>\n",
       "      <td>1551</td>\n",
       "      <td>42.8</td>\n",
       "      <td>0</td>\n",
       "      <td>0</td>\n",
       "      <td>0</td>\n",
       "      <td>0</td>\n",
       "      <td>0</td>\n",
       "      <td>0</td>\n",
       "      <td>0</td>\n",
       "    </tr>\n",
       "    <tr>\n",
       "      <th>1</th>\n",
       "      <td>2</td>\n",
       "      <td>L47181</td>\n",
       "      <td>L</td>\n",
       "      <td>298.2</td>\n",
       "      <td>308.7</td>\n",
       "      <td>1408</td>\n",
       "      <td>46.3</td>\n",
       "      <td>3</td>\n",
       "      <td>0</td>\n",
       "      <td>0</td>\n",
       "      <td>0</td>\n",
       "      <td>0</td>\n",
       "      <td>0</td>\n",
       "      <td>0</td>\n",
       "    </tr>\n",
       "    <tr>\n",
       "      <th>2</th>\n",
       "      <td>3</td>\n",
       "      <td>L47182</td>\n",
       "      <td>L</td>\n",
       "      <td>298.1</td>\n",
       "      <td>308.5</td>\n",
       "      <td>1498</td>\n",
       "      <td>49.4</td>\n",
       "      <td>5</td>\n",
       "      <td>0</td>\n",
       "      <td>0</td>\n",
       "      <td>0</td>\n",
       "      <td>0</td>\n",
       "      <td>0</td>\n",
       "      <td>0</td>\n",
       "    </tr>\n",
       "    <tr>\n",
       "      <th>3</th>\n",
       "      <td>4</td>\n",
       "      <td>L47183</td>\n",
       "      <td>L</td>\n",
       "      <td>298.2</td>\n",
       "      <td>308.6</td>\n",
       "      <td>1433</td>\n",
       "      <td>39.5</td>\n",
       "      <td>7</td>\n",
       "      <td>0</td>\n",
       "      <td>0</td>\n",
       "      <td>0</td>\n",
       "      <td>0</td>\n",
       "      <td>0</td>\n",
       "      <td>0</td>\n",
       "    </tr>\n",
       "    <tr>\n",
       "      <th>4</th>\n",
       "      <td>5</td>\n",
       "      <td>L47184</td>\n",
       "      <td>L</td>\n",
       "      <td>298.2</td>\n",
       "      <td>308.7</td>\n",
       "      <td>1408</td>\n",
       "      <td>40.0</td>\n",
       "      <td>9</td>\n",
       "      <td>0</td>\n",
       "      <td>0</td>\n",
       "      <td>0</td>\n",
       "      <td>0</td>\n",
       "      <td>0</td>\n",
       "      <td>0</td>\n",
       "    </tr>\n",
       "  </tbody>\n",
       "</table>\n",
       "</div>"
      ],
      "text/plain": [
       "   UDI Product ID Type  Air temperature [K]  Process temperature [K]  \\\n",
       "0    1     M14860    M                298.1                    308.6   \n",
       "1    2     L47181    L                298.2                    308.7   \n",
       "2    3     L47182    L                298.1                    308.5   \n",
       "3    4     L47183    L                298.2                    308.6   \n",
       "4    5     L47184    L                298.2                    308.7   \n",
       "\n",
       "   Rotational speed [rpm]  Torque [Nm]  Tool wear [min]  Machine failure  TWF  \\\n",
       "0                    1551         42.8                0                0    0   \n",
       "1                    1408         46.3                3                0    0   \n",
       "2                    1498         49.4                5                0    0   \n",
       "3                    1433         39.5                7                0    0   \n",
       "4                    1408         40.0                9                0    0   \n",
       "\n",
       "   HDF  PWF  OSF  RNF  \n",
       "0    0    0    0    0  \n",
       "1    0    0    0    0  \n",
       "2    0    0    0    0  \n",
       "3    0    0    0    0  \n",
       "4    0    0    0    0  "
      ]
     },
     "execution_count": 2,
     "metadata": {},
     "output_type": "execute_result"
    }
   ],
   "source": [
    "location = pd.read_csv(r\"C:\\Users\\lenovo\\Downloads\\predictive+maintenance+dataset\\ai4i2020.csv\")\n",
    "data = pd.DataFrame(location)\n",
    "data.head(5)"
   ]
  },
  {
   "cell_type": "code",
   "execution_count": 3,
   "id": "b79da78b-b93d-4332-89df-0776468adf25",
   "metadata": {},
   "outputs": [
    {
     "name": "stdout",
     "output_type": "stream",
     "text": [
      "<class 'pandas.core.frame.DataFrame'>\n",
      "RangeIndex: 10000 entries, 0 to 9999\n",
      "Data columns (total 14 columns):\n",
      " #   Column                   Non-Null Count  Dtype  \n",
      "---  ------                   --------------  -----  \n",
      " 0   UDI                      10000 non-null  int64  \n",
      " 1   Product ID               10000 non-null  object \n",
      " 2   Type                     10000 non-null  object \n",
      " 3   Air temperature [K]      10000 non-null  float64\n",
      " 4   Process temperature [K]  10000 non-null  float64\n",
      " 5   Rotational speed [rpm]   10000 non-null  int64  \n",
      " 6   Torque [Nm]              10000 non-null  float64\n",
      " 7   Tool wear [min]          10000 non-null  int64  \n",
      " 8   Machine failure          10000 non-null  int64  \n",
      " 9   TWF                      10000 non-null  int64  \n",
      " 10  HDF                      10000 non-null  int64  \n",
      " 11  PWF                      10000 non-null  int64  \n",
      " 12  OSF                      10000 non-null  int64  \n",
      " 13  RNF                      10000 non-null  int64  \n",
      "dtypes: float64(3), int64(9), object(2)\n",
      "memory usage: 1.1+ MB\n"
     ]
    }
   ],
   "source": [
    "data.info()"
   ]
  },
  {
   "cell_type": "raw",
   "id": "5712adaa-6b80-41f0-b3fa-a954c56e8ba0",
   "metadata": {},
   "source": [
    "Let us understand what each column means and is it relevant to our analysis or not\n",
    "UDI: A unique identifier for each data entry. (Irrelevant)\n",
    "Product ID: Identifies the type or batch of the product being manufactured. (Irrelevant)\n",
    "Type: Type of machine (\"H\":Heavy, \"M\": Medium,\"L\":Light)\n",
    "Air temperature [K]: Surrounding temprature in Kelvin\n",
    "Process temperature [K]: Temprature during machine running in Kelvin\n",
    "Rotational speed [rpm]: Rotational speed of machine in RPM(Revolutions per minute)\n",
    "Torque [Nm]: Torque applied to machine in Newton-metres\n",
    "Tool wear [min]: Amount of wear and tear in machine in minutes\n",
    "Machine failure: Indicator whether the machine failed or not (Target column)\n",
    "TWF: Tool wear failure\n",
    "HDF: Heat dissipation Failure\n",
    "PWF: Power Failure\n",
    "OSF: Over strain Failure\n",
    "RNF: Random Failures"
   ]
  },
  {
   "cell_type": "raw",
   "id": "98e59afa-23ca-4d04-9ef7-eb6f34ec1944",
   "metadata": {},
   "source": [
    "since there are no null values, let us check if there are any duplicated values in it "
   ]
  },
  {
   "cell_type": "code",
   "execution_count": 4,
   "id": "00ca314d-edd3-4a24-9e49-7f7e4a66ef4b",
   "metadata": {},
   "outputs": [
    {
     "data": {
      "text/plain": [
       "0"
      ]
     },
     "execution_count": 4,
     "metadata": {},
     "output_type": "execute_result"
    }
   ],
   "source": [
    "data.duplicated().sum()"
   ]
  },
  {
   "cell_type": "raw",
   "id": "c8ce233e-c30c-477e-a914-8cdee6e03c19",
   "metadata": {},
   "source": [
    "cool, now we can go ahead and proceed with data summary"
   ]
  },
  {
   "cell_type": "code",
   "execution_count": 5,
   "id": "4ae57c3d-87d3-4054-af95-0e487948199e",
   "metadata": {},
   "outputs": [
    {
     "data": {
      "text/plain": [
       "(10000, 14)"
      ]
     },
     "execution_count": 5,
     "metadata": {},
     "output_type": "execute_result"
    }
   ],
   "source": [
    "data.shape"
   ]
  },
  {
   "cell_type": "code",
   "execution_count": 6,
   "id": "f8c52696-cbcf-4af5-87c5-e7dadc68332a",
   "metadata": {},
   "outputs": [
    {
     "data": {
      "text/plain": [
       "Machine failure\n",
       "0    9661\n",
       "1     339\n",
       "Name: count, dtype: int64"
      ]
     },
     "execution_count": 6,
     "metadata": {},
     "output_type": "execute_result"
    }
   ],
   "source": [
    "data['Machine failure'].value_counts()"
   ]
  },
  {
   "cell_type": "raw",
   "id": "bee6a91f-4a71-467d-ae79-6e9fed9b9042",
   "metadata": {},
   "source": [
    "Since Product ID and UDI are irrelevant we are dropping these columns"
   ]
  },
  {
   "cell_type": "code",
   "execution_count": 7,
   "id": "80de9636-6192-47a8-bfdd-17ef87fc7815",
   "metadata": {},
   "outputs": [],
   "source": [
    "data = data.drop(columns=['UDI', 'Product ID'], errors='ignore')"
   ]
  },
  {
   "cell_type": "code",
   "execution_count": 8,
   "id": "e280650b-633d-4033-8614-e1d9858904bc",
   "metadata": {},
   "outputs": [
    {
     "data": {
      "text/plain": [
       "(10000, 12)"
      ]
     },
     "execution_count": 8,
     "metadata": {},
     "output_type": "execute_result"
    }
   ],
   "source": [
    "data.shape"
   ]
  },
  {
   "cell_type": "markdown",
   "id": "4b43c23f-0333-4a13-bad5-43482d1ae828",
   "metadata": {},
   "source": [
    "### Since we have categorical values in Type column let us encode it using one hot encoding"
   ]
  },
  {
   "cell_type": "code",
   "execution_count": 9,
   "id": "c0282f1f-e973-4d2d-9391-989931bbb673",
   "metadata": {},
   "outputs": [],
   "source": [
    "encoder = OneHotEncoder(sparse_output=False, drop='first')\n",
    "encoded_type = encoder.fit_transform(data[['Type']])\n",
    "encoded_type_df = pd.DataFrame(encoded_type, columns=encoder.get_feature_names_out(['Type']))\n",
    "data = data.drop(columns=['Type']).join(encoded_type_df)"
   ]
  },
  {
   "cell_type": "markdown",
   "id": "f73318b8-4447-4257-ae7f-d85f4988755b",
   "metadata": {},
   "source": [
    "### Lets normalize the numerical columns so as to ensure that each feature have equal weight "
   ]
  },
  {
   "cell_type": "code",
   "execution_count": 10,
   "id": "e388deb6-864d-4619-98a0-b4d5f0e681dc",
   "metadata": {},
   "outputs": [],
   "source": [
    "scaler = StandardScaler()\n",
    "numerical_features = ['Air temperature [K]', 'Process temperature [K]', 'Rotational speed [rpm]','Torque [Nm]','Tool wear [min]'] \n",
    "data[numerical_features] = scaler.fit_transform(data[numerical_features])"
   ]
  },
  {
   "cell_type": "code",
   "execution_count": 11,
   "id": "63f4f9cd-71da-45c6-88f3-3933d40033e9",
   "metadata": {},
   "outputs": [
    {
     "name": "stdout",
     "output_type": "stream",
     "text": [
      "<class 'pandas.core.frame.DataFrame'>\n",
      "RangeIndex: 10000 entries, 0 to 9999\n",
      "Data columns (total 13 columns):\n",
      " #   Column                   Non-Null Count  Dtype  \n",
      "---  ------                   --------------  -----  \n",
      " 0   Air temperature [K]      10000 non-null  float64\n",
      " 1   Process temperature [K]  10000 non-null  float64\n",
      " 2   Rotational speed [rpm]   10000 non-null  float64\n",
      " 3   Torque [Nm]              10000 non-null  float64\n",
      " 4   Tool wear [min]          10000 non-null  float64\n",
      " 5   Machine failure          10000 non-null  int64  \n",
      " 6   TWF                      10000 non-null  int64  \n",
      " 7   HDF                      10000 non-null  int64  \n",
      " 8   PWF                      10000 non-null  int64  \n",
      " 9   OSF                      10000 non-null  int64  \n",
      " 10  RNF                      10000 non-null  int64  \n",
      " 11  Type_L                   10000 non-null  float64\n",
      " 12  Type_M                   10000 non-null  float64\n",
      "dtypes: float64(7), int64(6)\n",
      "memory usage: 1015.8 KB\n"
     ]
    }
   ],
   "source": [
    "data.info()"
   ]
  },
  {
   "cell_type": "code",
   "execution_count": 12,
   "id": "b9abff0f-3c4b-4d28-a032-2a3200d989c3",
   "metadata": {},
   "outputs": [
    {
     "name": "stdout",
     "output_type": "stream",
     "text": [
      "Training set size: (8000, 12)\n",
      "Testing set size: (2000, 12)\n"
     ]
    }
   ],
   "source": [
    "X = data.drop(columns=['Machine failure']) \n",
    "y = data['Machine failure']\n",
    "\n",
    "\n",
    "X_train, X_test, y_train, y_test = train_test_split(X, y, test_size=0.2, random_state=42, stratify=y)\n",
    "\n",
    "print(f\"Training set size: {X_train.shape}\")\n",
    "print(f\"Testing set size: {X_test.shape}\")"
   ]
  },
  {
   "cell_type": "raw",
   "id": "a16eed4e-6498-4094-8106-7763425aca8c",
   "metadata": {},
   "source": [
    "Now that we have the data prepared, let us identify the most relevant features using RFE with the Random Forest classifier."
   ]
  },
  {
   "cell_type": "code",
   "execution_count": 13,
   "id": "d2e54392-97f3-4584-8cd4-b17c115087c2",
   "metadata": {},
   "outputs": [
    {
     "name": "stdout",
     "output_type": "stream",
     "text": [
      "Selected Features: Index(['Rotational speed [rpm]', 'Torque [Nm]', 'Tool wear [min]', 'TWF',\n",
      "       'HDF', 'PWF', 'OSF'],\n",
      "      dtype='object')\n"
     ]
    }
   ],
   "source": [
    "rf_model = RandomForestClassifier(random_state=42)\n",
    "\n",
    "rfe = RFE(estimator=rf_model, n_features_to_select=7)  \n",
    "rfe.fit(X_train, y_train)\n",
    "\n",
    "selected_features = X_train.columns[rfe.support_]\n",
    "print(\"Selected Features:\", selected_features)"
   ]
  },
  {
   "cell_type": "raw",
   "id": "5d665c30-5e8a-483e-bc51-4cbbe398a5c3",
   "metadata": {},
   "source": [
    "RFE iteratively removes less important features based on the model's performance.\n",
    "Specifying n_features_to_select=7 ensures that only the most significant 7 features are retained, reducing dimensionality and improving model efficiency.\n",
    "and from this step we get to know that ['Rotational speed [rpm]', 'Torque [Nm]', 'Tool wear [min]', 'TWF',\n",
    "       'HDF', 'PWF', 'OSF'] are the most important features"
   ]
  },
  {
   "cell_type": "markdown",
   "id": "b4ea6a72-f64f-48d3-94a8-137b0be713f3",
   "metadata": {},
   "source": [
    "### Now using these important features we will train our model so that we can simplify the model and reduces noise from irrelevant features.\n",
    "### This ensures the model focuses on variables that contribute the most to predicting machine failures."
   ]
  },
  {
   "cell_type": "code",
   "execution_count": 14,
   "id": "68bc64ab-d89b-4087-8f8b-370e3839a880",
   "metadata": {},
   "outputs": [
    {
     "name": "stdout",
     "output_type": "stream",
     "text": [
      "Accuracy: 0.999\n",
      "\n",
      "Classification Report:\n",
      "               precision    recall  f1-score   support\n",
      "\n",
      "           0       1.00      1.00      1.00      1932\n",
      "           1       1.00      0.97      0.99        68\n",
      "\n",
      "    accuracy                           1.00      2000\n",
      "   macro avg       1.00      0.99      0.99      2000\n",
      "weighted avg       1.00      1.00      1.00      2000\n",
      "\n",
      "ROC AUC Score: 0.9844644379490928\n"
     ]
    }
   ],
   "source": [
    "X_train_selected = X_train[selected_features]\n",
    "X_test_selected = X_test[selected_features]\n",
    "\n",
    "rf_model.fit(X_train_selected, y_train)\n",
    "\n",
    "y_pred = rf_model.predict(X_test_selected)\n",
    "\n",
    "print(\"Accuracy:\", accuracy_score(y_test, y_pred))\n",
    "print(\"\\nClassification Report:\\n\", classification_report(y_test, y_pred))\n",
    "\n",
    "y_proba = rf_model.predict_proba(X_test_selected)[:, 1]\n",
    "print(\"ROC AUC Score:\", roc_auc_score(y_test, y_proba))\n"
   ]
  },
  {
   "cell_type": "raw",
   "id": "f4c27c52-8f32-4e56-94a7-4d0a9f925ff7",
   "metadata": {},
   "source": [
    "Let's see our evaluation score of our model\n",
    "\n",
    "1. Overall Model Performance\n",
    "Accuracy: 0.999\n",
    "The model correctly classifies 99.9% of the test data, showcasing excellent overall performance.\n",
    "\n",
    "Class 0 (No Failure):\n",
    "Precision: 1.00 = Every instance predicted as No Failure is correct (no false positives).\n",
    "Recall: 1.00 = The model successfully identifies all No Failure cases (no false negatives).\n",
    "F1-Score: 1.00 = Perfect balance between precision and recall for this class.\n",
    "Support: 1932 = The majority class in the dataset.\n",
    "\n",
    "Class 1 (Failure):\n",
    "Precision: 1.00 = Every instance predicted as Failure is correct.\n",
    "Recall: 0.97 = 97% of actual failures are detected, but a small portion (3%) is missed.\n",
    "F1-Score: 0.99 = Near-perfect performance in identifying failures.\n",
    "Support: 68 = Minority class, indicating an imbalanced dataset.\n",
    "\n",
    "ROC AUC Score: 0.9844\n",
    "Measures the model's ability to distinguish between classes.\n",
    "A score of 0.98 indicates excellent class separability, where the model can confidently distinguish between Failure (1) and No Failure (0)."
   ]
  },
  {
   "cell_type": "raw",
   "id": "7563579b-9c8e-4d67-ac94-e5f3f5ce18e4",
   "metadata": {},
   "source": [
    "Business Insights:\n",
    "\n",
    "High Precision for Failures: No false alarms for failures, ensuring that resources are not wasted on unnecessary maintenance.\n",
    "High Recall for Failures: Captures 97% of actual failures, minimizing the risk of missing critical issues.\n",
    "Balanced Performance: Exceptional precision, recall, and F1-score across both classes."
   ]
  },
  {
   "cell_type": "code",
   "execution_count": 15,
   "id": "623eb998-990a-46cd-a68f-f111b4edb0c8",
   "metadata": {},
   "outputs": [
    {
     "data": {
      "image/png": "[encoded data removed]",
      "text/plain": [
       "<Figure size 1000x600 with 1 Axes>"
      ]
     },
     "metadata": {},
     "output_type": "display_data"
    }
   ],
   "source": [
    "feature_importances = rf_model.feature_importances_\n",
    "sorted_indices = np.argsort(feature_importances)[::-1]\n",
    "\n",
    "plt.figure(figsize=(10, 6))\n",
    "plt.bar(range(len(selected_features)), feature_importances[sorted_indices])\n",
    "plt.xticks(range(len(selected_features)), selected_features[sorted_indices], rotation=45)\n",
    "plt.title(\"Feature Importances\")\n",
    "plt.show()\n"
   ]
  },
  {
   "cell_type": "markdown",
   "id": "36690ce3-a4a9-47de-9266-a378e65884e6",
   "metadata": {},
   "source": [
    "### Findings"
   ]
  },
  {
   "cell_type": "raw",
   "id": "e7d9dce6-26fe-4dbd-8a31-f6b00a9d0c05",
   "metadata": {},
   "source": [
    "1. HDF (Heat Dissipation Failure): Accounts for the highest contribution to the model's predictions.\n",
    "                                   Proper heat management is critical for machine health. Failures in heat dissipation systems are a primary cause of                                       machine breakdowns. \n",
    "\n",
    "2. OSF (Overstrain Failure): Indicates that machines operating under high strain are prone to failure.\n",
    "                             Monitoring strain levels and implementing overstrain safeguards can significantly reduce failure risks.\n",
    "\n",
    "3. PWF (Power Failure): Highlights the importance of a stable power supply.\n",
    "                        Machines require consistent power for optimal operation; power fluctuations must be minimized."
   ]
  },
  {
   "cell_type": "markdown",
   "id": "7f575128-c2e6-41e5-9a81-b5638c6979c6",
   "metadata": {},
   "source": [
    "### Solutions"
   ]
  },
  {
   "cell_type": "raw",
   "id": "0263693e-3f65-497d-87d6-4855e46ffebc",
   "metadata": {},
   "source": [
    "Heat dissipation (HDF), overstrain (OSF), and power issues (PWF) are the most critical factors affecting machine reliability.\n",
    "Addressing heat and strain failures through sensors and regular maintenance could drastically improve machine uptime.\n",
    "Resource allocation for monitoring HDF, OSF, and PWF should be prioritized to prevent costly downtime."
   ]
  },
  {
   "cell_type": "code",
   "execution_count": null,
   "id": "d6207459-0e3b-49e4-879f-c7cf334d36c4",
   "metadata": {},
   "outputs": [],
   "source": []
  }
 ],
 "metadata": {
  "kernelspec": {
   "display_name": "Python 3 (ipykernel)",
   "language": "python",
   "name": "python3"
  },
  "language_info": {
   "codemirror_mode": {
    "name": "ipython",
    "version": 3
   },
   "file_extension": ".py",
   "mimetype": "text/x-python",
   "name": "python",
   "nbconvert_exporter": "python",
   "pygments_lexer": "ipython3",
   "version": "3.9.18"
  }
 },
 "nbformat": 4,
 "nbformat_minor": 5
}
